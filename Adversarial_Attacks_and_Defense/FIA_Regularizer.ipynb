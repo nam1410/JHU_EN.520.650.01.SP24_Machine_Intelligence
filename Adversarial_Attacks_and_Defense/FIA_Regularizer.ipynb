{
  "cells": [
    {
      "cell_type": "markdown",
      "metadata": {
        "id": "Zr5t8pSs9nib"
      },
      "source": [
        "# Importing Libraries\n"
      ]
    },
    {
      "cell_type": "code",
      "execution_count": 1,
      "metadata": {
        "id": "22mv_lqxcuOP"
      },
      "outputs": [],
      "source": [
        "import torch\n",
        "import torchvision.transforms as transforms\n",
        "from torch.utils.data import DataLoader\n",
        "import torchvision.datasets as datasets\n",
        "import torch.nn as nn\n",
        "import torch.nn.functional as F\n",
        "import matplotlib.pyplot as plt\n",
        "import numpy as np\n",
        "import sys\n",
        "import torch.optim as optim\n",
        "from torchvision import models"
      ]
    },
    {
      "cell_type": "markdown",
      "metadata": {
        "id": "LSttD9V_9rpu"
      },
      "source": [
        "# Classification"
      ]
    },
    {
      "cell_type": "markdown",
      "metadata": {
        "id": "OpwvnT_ZdK8G"
      },
      "source": [
        "create dataloaders"
      ]
    },
    {
      "cell_type": "code",
      "execution_count": 2,
      "metadata": {
        "colab": {
          "base_uri": "https://localhost:8080/"
        },
        "id": "uX9uQDPqdL4K",
        "outputId": "2287c892-0cfa-44f6-bb60-e6af6c4b8052"
      },
      "outputs": [
        {
          "output_type": "stream",
          "name": "stdout",
          "text": [
            "Downloading https://www.cs.toronto.edu/~kriz/cifar-10-python.tar.gz to ./data/cifar-10-python.tar.gz\n"
          ]
        },
        {
          "output_type": "stream",
          "name": "stderr",
          "text": [
            "100%|██████████| 170498071/170498071 [00:02<00:00, 74055656.34it/s]\n"
          ]
        },
        {
          "output_type": "stream",
          "name": "stdout",
          "text": [
            "Extracting ./data/cifar-10-python.tar.gz to ./data\n",
            "Files already downloaded and verified\n"
          ]
        }
      ],
      "source": [
        "#define a transformation function for training and test\n",
        "train_transformation = transforms.Compose([\n",
        "    transforms.RandomResizedCrop(size=(32, 32), antialias=True),\n",
        "    transforms.RandomHorizontalFlip(p=0.5),\n",
        "    transforms.ToTensor(),\n",
        "    transforms.Normalize(mean=[0.5, 0.5, 0.5], std=[0.5, 0.5, 0.5]),\n",
        "])\n",
        "\n",
        "test_transformation = transforms.Compose([\n",
        "    transforms.ToTensor(),\n",
        "    transforms.Normalize(mean=[0.5, 0.5, 0.5], std=[0.5, 0.5, 0.5]),\n",
        "])\n",
        "\n",
        "#create training and test dataset\n",
        "training = datasets.CIFAR10(root='./data', train=True, download=True, transform=train_transformation)\n",
        "test = datasets.CIFAR10(root='./data', train=False, download=True, transform=test_transformation)\n",
        "\n",
        "size_batch = 10000\n",
        "#create training and test loaders\n",
        "train_loader = torch.utils.data.DataLoader(training, batch_size=size_batch,shuffle=True, num_workers=2)\n",
        "test_loader = torch.utils.data.DataLoader(test, batch_size=size_batch,shuffle=False, num_workers=2)\n",
        "\n",
        "#classes = ('plane', 'car', 'bird', 'cat','deer', 'dog', 'frog', 'horse', 'ship', 'truck')"
      ]
    },
    {
      "cell_type": "code",
      "execution_count": null,
      "metadata": {
        "colab": {
          "base_uri": "https://localhost:8080/",
          "height": 105
        },
        "id": "AaHCdGihd9V8",
        "outputId": "956d4d20-7200-4c83-f045-6e4d283fcc03"
      },
      "outputs": [
        {
          "data": {
            "application/vnd.google.colaboratory.intrinsic+json": {
              "type": "string"
            },
            "text/plain": [
              "'\\ndef check_class_distribution(loader, name):\\n    class_count = np.zeros(10)  #count occurrences of each class\\n    for _, labels in loader:\\n        for label in labels:\\n            class_count[label] += 1\\n    classes = [f\"Class {i}\" for i in range(10)]  #class labels\\n    plt.bar(classes, class_count)\\n    plt.title(f\"Class Distribution in {name}\")\\n    plt.xlabel(\"Class\")\\n    plt.ylabel(\"Number of Samples\")\\n    plt.xticks(rotation=45)  #better readability\\n    plt.show()\\n\\n# Plot class distribution for training data\\ncheck_class_distribution(train_loader, \"Training Data\")\\n\\n# Plot class distribution for test data\\ncheck_class_distribution(test_loader, \"Test Data\")\\n'"
            ]
          },
          "execution_count": 3,
          "metadata": {},
          "output_type": "execute_result"
        }
      ],
      "source": [
        "'''\n",
        "def check_class_distribution(loader, name):\n",
        "    class_count = np.zeros(10)  #count occurrences of each class\n",
        "    for _, labels in loader:\n",
        "        for label in labels:\n",
        "            class_count[label] += 1\n",
        "    classes = [f\"Class {i}\" for i in range(10)]  #class labels\n",
        "    plt.bar(classes, class_count)\n",
        "    plt.title(f\"Class Distribution in {name}\")\n",
        "    plt.xlabel(\"Class\")\n",
        "    plt.ylabel(\"Number of Samples\")\n",
        "    plt.xticks(rotation=45)  #better readability\n",
        "    plt.show()\n",
        "\n",
        "# Plot class distribution for training data\n",
        "check_class_distribution(train_loader, \"Training Data\")\n",
        "\n",
        "# Plot class distribution for test data\n",
        "check_class_distribution(test_loader, \"Test Data\")\n",
        "'''"
      ]
    },
    {
      "cell_type": "code",
      "execution_count": 3,
      "metadata": {
        "colab": {
          "base_uri": "https://localhost:8080/",
          "height": 1000
        },
        "id": "xi9BVeg0lPBi",
        "outputId": "298908e7-3755-42b8-e6bb-bdc29160fd7a"
      },
      "outputs": [
        {
          "output_type": "stream",
          "name": "stderr",
          "text": [
            "/usr/lib/python3.10/multiprocessing/popen_fork.py:66: RuntimeWarning: os.fork() was called. os.fork() is incompatible with multithreaded code, and JAX is multithreaded, so this will likely lead to a deadlock.\n",
            "  self.pid = os.fork()\n",
            "/usr/lib/python3.10/multiprocessing/popen_fork.py:66: RuntimeWarning: os.fork() was called. os.fork() is incompatible with multithreaded code, and JAX is multithreaded, so this will likely lead to a deadlock.\n",
            "  self.pid = os.fork()\n"
          ]
        },
        {
          "output_type": "display_data",
          "data": {
            "text/plain": [
              "<Figure size 640x480 with 1 Axes>"
            ],
            "image/png": "[encoded data removed]"
          },
          "metadata": {}
        },
        {
          "output_type": "display_data",
          "data": {
            "text/plain": [
              "<Figure size 640x480 with 1 Axes>"
            ],
            "image/png": "[encoded data removed]"
          },
          "metadata": {}
        }
      ],
      "source": [
        "def check_class_distribution(dataset, loader, name):\n",
        "    classes = dataset.classes\n",
        "    num_classes = len(classes)\n",
        "    class_count = np.zeros(10)  #count occurrences of each class\n",
        "    shape_image = None\n",
        "    for images, labels in loader:\n",
        "        if shape_image is None:\n",
        "            shape_image = images[0].shape\n",
        "        for label in labels:\n",
        "            class_count[label] += 1\n",
        "    plt.bar(classes, class_count)\n",
        "    plt.title(f\"Class Distribution in {name}\")\n",
        "    plt.xlabel(\"Class\")\n",
        "    plt.ylabel(\"Number of Samples\")\n",
        "    plt.xticks(rotation=45)  #better readability\n",
        "    plt.show()\n",
        "    return shape_image, num_classes\n",
        "\n",
        "\n",
        "#distribution for training data\n",
        "shape_image_train, num_classes_train = check_class_distribution(training,train_loader, \"Training Data\")\n",
        "#distribution for test data\n",
        "shape_image_test, num_classes_test = check_class_distribution(test, test_loader, \"Test Data\")"
      ]
    },
    {
      "cell_type": "code",
      "execution_count": 4,
      "metadata": {
        "colab": {
          "base_uri": "https://localhost:8080/",
          "height": 53
        },
        "id": "o0k0OXtMuHh-",
        "outputId": "5c8c5625-ab67-423c-f5b6-6ca9ddfc2c49"
      },
      "outputs": [
        {
          "output_type": "stream",
          "name": "stdout",
          "text": [
            "tensor([ 3, 32, 32]) 10\n"
          ]
        },
        {
          "output_type": "execute_result",
          "data": {
            "text/plain": [
              "'\\nprint(int(input_size[0]))\\nprint(int(input_size[1]))\\nprint(int(input_size[2]))\\n'"
            ],
            "application/vnd.google.colaboratory.intrinsic+json": {
              "type": "string"
            }
          },
          "metadata": {},
          "execution_count": 4
        }
      ],
      "source": [
        "#sanity check\n",
        "if shape_image_train == shape_image_test:\n",
        "  #input_size = torch.prod(torch.tensor(shape_image_train)).item()\n",
        "  input_size = torch.tensor(shape_image_train)\n",
        "if num_classes_train == num_classes_test:\n",
        "  output_size = num_classes_train\n",
        "print(input_size, output_size)\n",
        "'''\n",
        "print(int(input_size[0]))\n",
        "print(int(input_size[1]))\n",
        "print(int(input_size[2]))\n",
        "'''"
      ]
    },
    {
      "cell_type": "code",
      "execution_count": null,
      "metadata": {
        "colab": {
          "base_uri": "https://localhost:8080/",
          "height": 139
        },
        "id": "YEeM-d4AjK2F",
        "outputId": "b153f675-ec44-4432-cbb2-d4ebf6b21373"
      },
      "outputs": [
        {
          "data": {
            "application/vnd.google.colaboratory.intrinsic+json": {
              "type": "string"
            },
            "text/plain": [
              "'\\nclass Trial_CIFAR10(nn.Module):\\n    def __init__(self):\\n        super(Trial_CIFAR10, self).__init__()\\n        # First convolutional layer: input channels=3 (RGB), output channels=16, kernel size=3x3, padding=1\\n        self.conv1 = nn.Conv2d(3, 32, kernel_size=3, padding=1)\\n        # Max pooling layer: kernel size=2x2, stride=2\\n        self.pool = nn.MaxPool2d(kernel_size=2, stride=2)\\n        # Second convolutional layer: input channels=16, output channels=32, kernel size=3x3, padding=1\\n        self.conv2 = nn.Conv2d(32, 32, kernel_size=3, padding=1)\\n        # First fully connected (linear) layer: input size=32*8*8 (output channels * height * width after pooling), output size=128\\n        self.fc1 = nn.Linear(32 * 8 * 8, 256)\\n        # Second fully connected layer: input size=128, output size=10 (number of classes)\\n        self.fc2 = nn.Linear(256, 10)\\n\\n    def forward(self, x):\\n        # Input x: batch of images, shape (batch_size, channels, height, width)\\n        # Apply first convolutional layer followed by ReLU activation\\n        print(\"1\",x.shape)\\n        x = self.pool(torch.relu(self.conv1(x)))\\n        print(\"2\",x.shape)\\n        # Apply second convolutional layer followed by ReLU activation\\n        x = self.pool(torch.relu(self.conv2(x)))\\n        print(\"3\",x.shape)\\n        # Reshape the output to a 1D tensor for the fully connected layers\\n        x = x.view(-1, 32 * 8 * 8)\\n        print(\"4\",x.shape)\\n        # Apply first fully connected layer followed by ReLU activation\\n        x = torch.relu(self.fc1(x))\\n        print(\"5\",x.shape)\\n        # Apply second fully connected layer (no activation function applied)\\n        x = self.fc2(x)\\n        print(\"6\",x.shape)\\n        # Output x: raw scores/logits for each class, shape (batch_size, num_classes)\\n        return x\\n'"
            ]
          },
          "execution_count": 6,
          "metadata": {},
          "output_type": "execute_result"
        }
      ],
      "source": [
        "#'''\n",
        "# class Trial_CIFAR10(nn.Module):\n",
        "#     def __init__(self):\n",
        "#         super().__init__()\n",
        "#         self.conv1 = nn.Conv2d(input_size[0],input_size[1] , kernel_size=3, padding=1)\n",
        "#         self.pool = nn.MaxPool2d(kernel_size=2, stride=2)\n",
        "#         self.conv2 = nn.Conv2d(input_size[1] ,input_size[1] , kernel_size=3, padding=1)\n",
        "#         self.fc1 = nn.Linear(input_size[1] * 8 * 8, 256)\n",
        "#         self.fc2 = nn.Linear(256, 128)\n",
        "#         self.fc3 = nn.Linear(128, output_size)\n",
        "\n",
        "#     def forward(self, x):\n",
        "#         #print(\"1\",x.shape)\n",
        "#         x = self.pool(F.relu(self.conv1(x)))\n",
        "#         #print(\"2\",x.shape)\n",
        "#         x = self.pool(F.relu(self.conv2(x)))\n",
        "#         #print(\"3\",x.shape)\n",
        "#         # Flatten images into vectors\n",
        "#         x = x.view(x.size(0), -1)\n",
        "#         #print(\"4\",x.shape)\n",
        "#         x = F.relu(self.fc1(x))\n",
        "#         #print(\"5\",x.shape)\n",
        "#         x = F.relu(self.fc2(x))\n",
        "#         #print(\"6\",x.shape)\n",
        "#         x = self.fc3(x)\n",
        "#         #print(\"7\",x.shape)\n",
        "#         return x\n",
        "'''\n",
        "class Trial_CIFAR10(nn.Module):\n",
        "    def __init__(self):\n",
        "        super(Trial_CIFAR10, self).__init__()\n",
        "        # First convolutional layer: input channels=3 (RGB), output channels=16, kernel size=3x3, padding=1\n",
        "        self.conv1 = nn.Conv2d(3, 32, kernel_size=3, padding=1)\n",
        "        # Max pooling layer: kernel size=2x2, stride=2\n",
        "        self.pool = nn.MaxPool2d(kernel_size=2, stride=2)\n",
        "        # Second convolutional layer: input channels=16, output channels=32, kernel size=3x3, padding=1\n",
        "        self.conv2 = nn.Conv2d(32, 32, kernel_size=3, padding=1)\n",
        "        # First fully connected (linear) layer: input size=32*8*8 (output channels * height * width after pooling), output size=128\n",
        "        self.fc1 = nn.Linear(32 * 8 * 8, 256)\n",
        "        # Second fully connected layer: input size=128, output size=10 (number of classes)\n",
        "        self.fc2 = nn.Linear(256, 10)\n",
        "\n",
        "    def forward(self, x):\n",
        "        # Input x: batch of images, shape (batch_size, channels, height, width)\n",
        "        # Apply first convolutional layer followed by ReLU activation\n",
        "        print(\"1\",x.shape)\n",
        "        x = self.pool(torch.relu(self.conv1(x)))\n",
        "        print(\"2\",x.shape)\n",
        "        # Apply second convolutional layer followed by ReLU activation\n",
        "        x = self.pool(torch.relu(self.conv2(x)))\n",
        "        print(\"3\",x.shape)\n",
        "        # Reshape the output to a 1D tensor for the fully connected layers\n",
        "        x = x.view(-1, 32 * 8 * 8)\n",
        "        print(\"4\",x.shape)\n",
        "        # Apply first fully connected layer followed by ReLU activation\n",
        "        x = torch.relu(self.fc1(x))\n",
        "        print(\"5\",x.shape)\n",
        "        # Apply second fully connected layer (no activation function applied)\n",
        "        x = self.fc2(x)\n",
        "        print(\"6\",x.shape)\n",
        "        # Output x: raw scores/logits for each class, shape (batch_size, num_classes)\n",
        "        return x\n",
        "'''"
      ]
    },
    {
      "cell_type": "code",
      "execution_count": 5,
      "metadata": {
        "colab": {
          "base_uri": "https://localhost:8080/"
        },
        "id": "X02U5VI9x0Ru",
        "outputId": "ab7a8527-5e1d-43e4-df03-aca2f2d25e92"
      },
      "outputs": [
        {
          "output_type": "stream",
          "name": "stdout",
          "text": [
            "cuda\n"
          ]
        }
      ],
      "source": [
        "def get_device():\n",
        "    if torch.cuda.is_available():\n",
        "        return torch.device('cuda')\n",
        "    else:\n",
        "        return torch.device('cpu')\n",
        "device = get_device()\n",
        "print(device)"
      ]
    },
    {
      "cell_type": "code",
      "execution_count": null,
      "metadata": {
        "id": "OXJo4gcayJU1"
      },
      "outputs": [],
      "source": [
        "# model = Trial_CIFAR10()\n",
        "# model.to(device)\n",
        "# if next(model.parameters()).is_cuda:\n",
        "#     print(\"model moved to cuda\")"
      ]
    },
    {
      "cell_type": "code",
      "execution_count": 6,
      "metadata": {
        "colab": {
          "base_uri": "https://localhost:8080/"
        },
        "id": "xB5yxM3BBJSM",
        "outputId": "056a0bae-f38a-4552-d0fc-47a7121d789a"
      },
      "outputs": [
        {
          "output_type": "stream",
          "name": "stderr",
          "text": [
            "/usr/local/lib/python3.10/dist-packages/torchvision/models/_utils.py:208: UserWarning: The parameter 'pretrained' is deprecated since 0.13 and may be removed in the future, please use 'weights' instead.\n",
            "  warnings.warn(\n",
            "/usr/local/lib/python3.10/dist-packages/torchvision/models/_utils.py:223: UserWarning: Arguments other than a weight enum or `None` for 'weights' are deprecated since 0.13 and may be removed in the future. The current behavior is equivalent to passing `weights=ResNet18_Weights.IMAGENET1K_V1`. You can also use `weights=ResNet18_Weights.DEFAULT` to get the most up-to-date weights.\n",
            "  warnings.warn(msg)\n",
            "Downloading: \"https://download.pytorch.org/models/resnet18-f37072fd.pth\" to /root/.cache/torch/hub/checkpoints/resnet18-f37072fd.pth\n",
            "100%|██████████| 44.7M/44.7M [00:00<00:00, 126MB/s]\n"
          ]
        }
      ],
      "source": [
        "model = models.resnet18(pretrained=True)\n",
        "\n",
        "for param in model.parameters():\n",
        "    param.requires_grad = False  # Freeze convolutional layers\n",
        "num_ftrs = model.fc.in_features\n",
        "\n",
        "# Add new final layers (replace with your architecture)\n",
        "\n",
        "model.fc = nn.Sequential(\n",
        "    nn.Linear(num_ftrs, 256),\n",
        "    nn.ReLU(),\n",
        "    nn.Linear(256, output_size)\n",
        ")\n",
        "\n",
        "model.to(device)\n",
        "\n",
        "if next(model.parameters()).is_cuda:\n",
        "    print(\"model moved to cuda\")"
      ]
    },
    {
      "cell_type": "code",
      "execution_count": 7,
      "metadata": {
        "id": "ST0n3JzNzq8Q"
      },
      "outputs": [],
      "source": [
        "criterion = nn.CrossEntropyLoss()\n",
        "optimizer = optim.Adam(model.parameters(), lr=0.001)\n",
        "scheduler = torch.optim.lr_scheduler.CosineAnnealingLR(optimizer, 10) #number of epochs"
      ]
    },
    {
      "cell_type": "code",
      "execution_count": null,
      "metadata": {
        "colab": {
          "base_uri": "https://localhost:8080/"
        },
        "id": "rGdp55J9zuha",
        "outputId": "f2e4168f-6aec-4cab-bbb0-fb333bdec890"
      },
      "outputs": [
        {
          "name": "stdout",
          "output_type": "stream",
          "text": [
            "Epoch [1/10], Average Loss: 2.228\n"
          ]
        },
        {
          "name": "stderr",
          "output_type": "stream",
          "text": [
            "/usr/local/lib/python3.10/dist-packages/torch/optim/lr_scheduler.py:156: UserWarning: The epoch parameter in `scheduler.step()` was not necessary and is being deprecated where possible. Please use `scheduler.step()` to step the scheduler. During the deprecation, if epoch is different from None, the closed form is used instead of the new chainable form, where available. Please open an issue if you are unable to replicate your use case: https://github.com/pytorch/pytorch/issues/new/choose.\n",
            "  warnings.warn(EPOCH_DEPRECATION_WARNING, UserWarning)\n"
          ]
        },
        {
          "name": "stdout",
          "output_type": "stream",
          "text": [
            "Epoch [2/10], Average Loss: 1.980\n",
            "Epoch [3/10], Average Loss: 1.849\n",
            "Epoch [4/10], Average Loss: 1.783\n",
            "Epoch [5/10], Average Loss: 1.731\n",
            "Epoch [6/10], Average Loss: 1.708\n",
            "Epoch [7/10], Average Loss: 1.691\n",
            "Epoch [8/10], Average Loss: 1.683\n",
            "Epoch [9/10], Average Loss: 1.671\n",
            "Epoch [10/10], Average Loss: 1.669\n",
            "Finished Training\n"
          ]
        }
      ],
      "source": [
        "import sys\n",
        "epochs = 10 #change it to whatever number you want\n",
        "for epoch in range(epochs):  # loop over the dataset multiple times\n",
        "    running_loss = 0.0\n",
        "    for i, data in enumerate(train_loader, 0):\n",
        "        # get the inputs; data is a list of [inputs, labels]\n",
        "        inputs, labels = data[0].to(device), data[1].to(device)\n",
        "        #print(inputs.shape)\n",
        "        #print(labels.shape)\n",
        "        #sys.exit()\n",
        "        # zero the parameter gradients\n",
        "        optimizer.zero_grad()\n",
        "        # forward + backward + optimize\n",
        "        outputs = model(inputs)\n",
        "        loss = criterion(outputs, labels)\n",
        "        #normalized_loss = loss.mean() / len(inputs)\n",
        "        # Backward pass and optimization\n",
        "        loss.backward()\n",
        "        optimizer.step()\n",
        "        # Print statistics\n",
        "        running_loss += loss.item()\n",
        "        #print(f'Epoch [{epoch + 1}/{5}], Batch [{i + 1}/{len(train_loader)}], Loss: {loss.item():.3f}')\n",
        "        if i == len(train_loader) - 1:  # If it's the last mini-batch\n",
        "            # Print the average loss over the epoch\n",
        "            print(f'Epoch [{epoch + 1}/{epochs}], Average Loss: {running_loss / (i + 1):.3f}')\n",
        "            running_loss = 0.0\n",
        "    scheduler.step(epoch-1)\n",
        "print('Finished Training')\n"
      ]
    },
    {
      "cell_type": "code",
      "source": [
        "torch.save(model.state_dict(), 'resnet_original.pth')"
      ],
      "metadata": {
        "id": "KZvruMTf08bm"
      },
      "execution_count": null,
      "outputs": []
    },
    {
      "cell_type": "markdown",
      "metadata": {
        "id": "PfVxeho2diih"
      },
      "source": [
        "# Attacks"
      ]
    },
    {
      "cell_type": "code",
      "execution_count": null,
      "metadata": {
        "id": "r7NXpRK_5pFs"
      },
      "outputs": [],
      "source": [
        "# Noise\n",
        "def adversarial_noise(images, epsilon=100):\n",
        "    \"\"\"Add random adversarial noise to the images.\"\"\"\n",
        "    noise = epsilon * torch.randn_like(images) #random noise\n",
        "    noised_images = images + noise # adding noise\n",
        "    return torch.clamp(noised_images, 0, 255) # making sure pixel values are valid"
      ]
    },
    {
      "cell_type": "code",
      "execution_count": 6,
      "metadata": {
        "id": "D-snoHhASIVI"
      },
      "outputs": [],
      "source": [
        "# FGSM\n",
        "def FGSM(model, image, epsilon=100):\n",
        "    \"\"\"\n",
        "      The FGSM is an attack method designed to fool models by perturbing the input data slightly in a way that maximizes the loss.\n",
        "      This function implements FGSM by taking a single image and its label, applying a gradient-based perturbation, and returning the modified image.\n",
        "      The perturbation magnitude is controlled by `epsilon`, which determines how much to move along the gradient's sign direction.\n",
        "\n",
        "    Parameters:\n",
        "    - model : The neural network model which is being attacked.\n",
        "    - image : A single image tensor for which the adversarial example is to be generated.\n",
        "    - labels : The true labels associated with the image tensor.\n",
        "    - epsilon : The perturbation magnitude used to create the adversarial image.\n",
        "\n",
        "    Output:\n",
        "    - perturbed_image : The image tensor after the FGSM attack, perturbed such that it aims to maximize the classification loss.\n",
        "\"\"\"\n",
        "    image.requires_grad = True\n",
        "    outputs = model(image)\n",
        "    criterion = nn.CrossEntropyLoss()\n",
        "    loss = criterion(outputs, labels)\n",
        "    model.zero_grad()\n",
        "    loss.backward()\n",
        "    image_grad = image.grad.data\n",
        "    sign_image_grad = image_grad.sign()\n",
        "    perturbed_image = image + epsilon * sign_image_grad\n",
        "    perturbed_image = torch.clamp(perturbed_image, 0, 255)\n",
        "\n",
        "    return perturbed_image"
      ]
    },
    {
      "cell_type": "code",
      "execution_count": null,
      "metadata": {
        "id": "sIfjurWC5sZR"
      },
      "outputs": [],
      "source": [
        "# PGD\n",
        "def PGD(model, image, epsilon=50,alpha = 100, num_iter = 100):\n",
        "    \"\"\"\n",
        "    The Projected Gradient Descent is an iterative method used to create adversarial examples by subtly and incrementally changing an image to maximize model error.\n",
        "    This function handles the attack by taking a single image and its label, applying small, controlled changes, and ensuring these changes stay within a defined limit, epsilon.\n",
        "    The amount adjusted per step is set by alpha, and the process repeats for a specified number of iterations to refine the adversarial effect.\n",
        "\n",
        "    Parameters:\n",
        "    - model : The neural network model which is being attacked.\n",
        "    - image : A single image tensor for which the adversarial example is to be generated.\n",
        "    - labels : The true labels associated with the image tensor.\n",
        "    - epsilon : The perturbation magnitude used to create the adversarial image.\n",
        "    - alpha : The step size for each iteration determining how much the image is modified at each step.\n",
        "    - num-iter : The number of iterations to perform.\n",
        "\n",
        "    Output:\n",
        "    - perturbed_image : The image tensor after the PGD attack.\n",
        "\"\"\"\n",
        "    image.requires_grad = True\n",
        "    criterion = nn.CrossEntropyLoss()\n",
        "    for i in range(num_iter):\n",
        "      outputs = model(image)\n",
        "      loss = criterion(outputs, labels)\n",
        "      model.zero_grad()\n",
        "      loss.backward()\n",
        "      image_grad = image.grad.data\n",
        "      sign_image_grad = image_grad.sign()\n",
        "      attacked_image = image + alpha * sign_image_grad\n",
        "      dist = torch.clamp(attacked_image - image, -epsilon, epsilon)\n",
        "      perturbed_image = torch.clamp(attacked_image - image, -epsilon, epsilon)\n",
        "      perturbed_image = torch.clamp(perturbed_image, 0, 255)\n",
        "    return perturbed_image"
      ]
    },
    {
      "cell_type": "code",
      "execution_count": 12,
      "metadata": {
        "id": "7eVFwItqf6Is"
      },
      "outputs": [],
      "source": [
        "#JSM\n",
        "def JSM(model, image, labels, max_iters = 100, threshold=0.1):\n",
        "    \"\"\"\n",
        "    Jacobian-based Saliency Maps (JSM) explore the forward derivates to calculate the model gradients, replacing the\n",
        "    gradient descent approaches, and discover which input regions are likely to yield adversarial examples.\n",
        "    Then it uses saliency maps to construct the adversarial saliency maps, which display the features the adversary must perturb.\n",
        "\n",
        "    Parameters:\n",
        "    - model : The neural network model which is being attacked.\n",
        "    - image : A single image tensor for which the adversarial example is to be generated.\n",
        "    - max_iters (int): Maximum number of iterations for the attack.\n",
        "    - labels : The true labels associated with the image tensor.\n",
        "    - threshold (float): Threshold for pixel perturbation.\n",
        "\n",
        "    Output:\n",
        "    - perturbed_image : The image tensor after the JSM attack.\n",
        "    \"\"\"\n",
        "    model.eval()\n",
        "    image.requires_grad = True\n",
        "    batch_size = image.size(0)\n",
        "\n",
        "    for _ in range(max_iters):\n",
        "        output = model(image)\n",
        "        loss = F.cross_entropy(output,labels)\n",
        "        model.zero_grad()\n",
        "        loss.backward()\n",
        "\n",
        "        saliency_map = image.grad.abs().sum(dim=1)\n",
        "        perturb_mask = saliency_map > threshold\n",
        "        perturb_values = torch.sign(image.grad) * perturb_mask.float().unsqueeze(1)\n",
        "        image.data +=perturb_values\n",
        "        image.grad.data.zero_()\n",
        "\n",
        "    image = torch.clamp(image,0,1)\n",
        "    return image\n"
      ]
    },
    {
      "cell_type": "code",
      "source": [],
      "metadata": {
        "id": "gwlSuimDzd1P"
      },
      "execution_count": null,
      "outputs": []
    },
    {
      "cell_type": "code",
      "source": [
        "def FIA(model, image, target, epsilon=50, alpha=100, num_iter=50, drop_prob=0.3, ensemble_num=5):\n",
        "    \"\"\"\n",
        "    Perform Feature Importance-aware Attack (FIA) considers the object-aware features that dominate the model decisions, using the aggregate\n",
        "    gradient (gradients average concerning the feature maps). This approach avoids local optimum, represents transferable feature importance,\n",
        "    and uses the aggregate gradient to assign weights identifying the essential features. Furthermore, FIA generates highly transferable\n",
        "    adversarial examples when extracting the feature importance from multiple classification models.\n",
        "\n",
        "    Parameters:\n",
        "    - model: the neural network model (PyTorch model).\n",
        "    - image: input image tensor\n",
        "    - target: true label of the image.\n",
        "    - epsilon: maximum perturbation.\n",
        "    - alpha: step size for each iteration.\n",
        "    - num_iter: number of iterations.\n",
        "    - drop_prob: probability of dropping a pixel.\n",
        "    - ensemble_num: number of random masks used to compute aggregate gradient.\n",
        "\n",
        "    Returns:\n",
        "    - perturbed_image: adversarially perturbed image.\n",
        "    \"\"\"\n",
        "    # Ensuring computation is in evaluation mode to deactivate dropout layers\n",
        "    model.eval()\n",
        "\n",
        "    # Initializing perturbation to zero\n",
        "    perturbation = torch.zeros_like(image)\n",
        "\n",
        "    # Looping over the number of iterations\n",
        "    for _ in range(num_iter):\n",
        "        # Initializing aggregate gradients to zero\n",
        "        aggregate_gradients = torch.zeros_like(image)\n",
        "\n",
        "        # Generating multiple masked versions of the image\n",
        "        for _ in range(ensemble_num):\n",
        "            # Applying random pixel dropping\n",
        "            mask = (torch.rand_like(image) > drop_prob).float()\n",
        "            masked_image = image * mask\n",
        "            masked_image.requires_grad = True\n",
        "\n",
        "            # Forward pass\n",
        "            output = model(masked_image)\n",
        "            loss = nn.CrossEntropyLoss()(output, target)\n",
        "\n",
        "            # Zero all existing gradients\n",
        "            model.zero_grad()\n",
        "\n",
        "            # Calculating gradients of model in backward pass\n",
        "            loss.backward()\n",
        "\n",
        "            # Accumulating the gradients\n",
        "            aggregate_gradients += masked_image.grad.data\n",
        "\n",
        "        # Averaging the gradients over all masked versions\n",
        "        aggregate_gradients /= ensemble_num\n",
        "\n",
        "        # Sign of the aggregated gradients\n",
        "        grad_sign = aggregate_gradients.sign()\n",
        "\n",
        "        # Updating the perturbation by a small step in the opposite direction of the gradient\n",
        "        perturbation += alpha * grad_sign\n",
        "        perturbation = torch.clamp(perturbation, -epsilon, epsilon)\n",
        "\n",
        "    # Apply the perturbation to the original image and clip to maintain valid pixel range\n",
        "    perturbed_image = image + perturbation\n",
        "    perturbed_image = torch.clamp(perturbed_image, 0, 1)\n",
        "\n",
        "    return perturbed_image\n"
      ],
      "metadata": {
        "id": "vUWDB0rLm7Zg"
      },
      "execution_count": 14,
      "outputs": []
    },
    {
      "cell_type": "code",
      "execution_count": 7,
      "metadata": {
        "id": "Chgt3NKVWCMO"
      },
      "outputs": [],
      "source": [
        "def adversarial_examples(model, dataloader):\n",
        "    \"\"\"Testing the model with adversarial examples and print loss values.\"\"\"\n",
        "    total_orig = 0\n",
        "    correct_orig = 0\n",
        "    correct_predictions = 0\n",
        "    for images, labels in dataloader:\n",
        "        images, labels = images.to(device), labels.to(device)\n",
        "\n",
        "        # adversarial examples\n",
        "        # adv_images = adversarial_noise(images)\n",
        "        # adv_images2 = FGSM(model,images)\n",
        "        # adv_images3 = PGD(model,images)\n",
        "        adv_images4 = JSM(model,images,labels)\n",
        "        #adv_image5 = deepfool(model,images, labels)\n",
        "\n",
        "        # original and attacked output label\n",
        "        outputs_orig = model(images)\n",
        "        # outputs_adv = model(adv_images)\n",
        "        # outputs_adv2 = model(adv_images2)\n",
        "        # outputs_adv3 = model(adv_images3)\n",
        "        outputs_adv4 = model(adv_images4)\n",
        "        # loss\n",
        "        loss_orig = F.cross_entropy(outputs_orig, labels)\n",
        "        # loss_adv = F.cross_entropy(outputs_adv, labels)\n",
        "        # loss_adv2 = F.cross_entropy(outputs_adv2, labels)\n",
        "        # loss_adv3 = F.cross_entropy(outputs_adv3, labels)\n",
        "        loss_adv4 = F.cross_entropy(outputs_adv4, labels)\n",
        "        # labels and loss values\n",
        "        print(\"Original labels: \", labels.cpu().numpy())\n",
        "        print(\"Loss on original images: \", loss_orig.item())\n",
        "        # print(\"Loss on noisy adversarial images: \", loss_adv.item())\n",
        "        # print(\"Loss on FGSM images: \", loss_adv2.item())\n",
        "        # print(\"Loss on PGD images: \", loss_adv3.item())\n",
        "        print(\"Loss on JSM images\", loss_adv4.item())\n",
        "\n",
        "        _, predicted_orig = torch.max(outputs_orig.data,1)\n",
        "        total_orig += labels.size(0)\n",
        "        correct_orig += (predicted_orig == labels).sum().item()\n",
        "\n",
        "        # correct_predictions_original = torch.eq(predicted_original,labels).sum().item()\n",
        "        # accuracy_original = correct_predictions_original / len(labels)\n",
        "\n",
        "        _, predicted = torch.max(outputs_adv4.data, 1)\n",
        "\n",
        "        correct_predictions  += (predicted == labels).sum().item()\n",
        "\n",
        "    accuracy_original = 100 * correct_orig / len(labels)\n",
        "    accuracy = 100 * correct_predictions / len(labels)\n",
        "    print(f\"Original Accuracy: {accuracy_original}\")\n",
        "\n",
        "    print(f\"JSM Accuracy: {accuracy}\")\n",
        "\n",
        "    print(f\"Predicted Label for Adversarial Image: {predicted.cpu().numpy()}\")\n",
        "\n",
        "    print(\"loss on JSM\", loss_adv4)"
      ]
    },
    {
      "cell_type": "code",
      "execution_count": 15,
      "metadata": {
        "id": "kCLCFie8zjyY"
      },
      "outputs": [],
      "source": [
        "def adversarial_examples(model, dataloader):\n",
        "    \"\"\"Testing the model with adversarial examples and print loss values.\"\"\"\n",
        "    total_orig = 0\n",
        "    correct_orig = 0\n",
        "    correct_predictions = 0\n",
        "    for images, labels in dataloader:\n",
        "        images, labels = images.to(device), labels.to(device)\n",
        "\n",
        "        # adversarial examples\n",
        "        # adv_images = adversarial_noise(images)\n",
        "        # adv_images2 = FGSM(model,images)\n",
        "        # adv_images3 = PGD(model,images)\n",
        "        # adv_images4 = JSM(model,images,labels)\n",
        "        adv_images5 = FIA(model,images, labels)\n",
        "\n",
        "        # original and attacked output label\n",
        "        outputs_orig = model(images)\n",
        "        # outputs_adv = model(adv_images)\n",
        "        # outputs_adv2 = model(adv_images2)\n",
        "        # outputs_adv3 = model(adv_images3)\n",
        "        # outputs_adv4 = model(adv_images4)\n",
        "        outputs_adv5 = model(adv_images5)\n",
        "        # loss\n",
        "        loss_orig = F.cross_entropy(outputs_orig, labels)\n",
        "        # loss_adv = F.cross_entropy(outputs_adv, labels)\n",
        "        # loss_adv2 = F.cross_entropy(outputs_adv2, labels)\n",
        "        # loss_adv3 = F.cross_entropy(outputs_adv3, labels)\n",
        "        # loss_adv4 = F.cross_entropy(outputs_adv4, labels)\n",
        "        loss_adv5 = F.cross_entropy(outputs_adv5, labels)\n",
        "        # labels and loss values\n",
        "        print(\"Original labels: \", labels.cpu().numpy())\n",
        "        print(\"Loss on original images: \", loss_orig.item())\n",
        "\n",
        "        # print(\"Loss on noisy adversarial images: \", loss_adv.item())\n",
        "        # print(\"Loss on FGSM images: \", loss_adv2.item())\n",
        "        # print(\"Loss on PGD images: \", loss_adv3.item())\n",
        "        # print(\"Loss on JSM images\", loss_adv4.item())\n",
        "\n",
        "        print(f\"Loss on FIA images: {loss_adv5.item()}\")\n",
        "\n",
        "        # prediction\n",
        "        # _, predicted_adv = torch.max(outputs_adv.data,1\n",
        "        _, predicted_orig = torch.max(outputs_orig.data,1)\n",
        "        total_orig += labels.size(0)\n",
        "        correct_orig += (predicted_orig == labels).sum().item()\n",
        "\n",
        "        # correct_predictions_original = torch.eq(predicted_original,labels).sum().item()\n",
        "        # accuracy_original = correct_predictions_original / len(labels)\n",
        "\n",
        "        # _, predicted = torch.max(outputs_adv4.data, 1)\n",
        "        _, predicted5 = torch.max(outputs_adv5.data, 1)\n",
        "\n",
        "        # correct_predictions  += (predicted == labels).sum().item()\n",
        "        correct_predictions_5 = (predicted5 == labels).sum().item()\n",
        "    accuracy_original = 100 * correct_orig / len(labels)\n",
        "    # accuracy = 100 * correct_predictions / len(labels)\n",
        "    accuracy5 = 100 * correct_predictions_5 / len(labels)\n",
        "    print(f\"Original Accuracy: {accuracy_original}\")\n",
        "\n",
        "    # print(f\"JSM Accuracy: {accuracy}\")\n",
        "    print(f\"FIA Accuracy: {accuracy5}\")\n",
        "    # print(f\"Predicted Label for Adversarial Image: {predicted.cpu().numpy()}\")\n",
        "    print(f\"Predicted Label for Adversarial Image: {predicted5.cpu().numpy()}\")\n",
        "\n",
        "    print(\"loss on FIA\", loss_adv5)"
      ]
    },
    {
      "cell_type": "code",
      "execution_count": null,
      "metadata": {
        "id": "XB0DO3xEX6xD"
      },
      "outputs": [],
      "source": [
        "# Test the model with adversarial examples\n",
        "adversarial_examples(model, test_loader)"
      ]
    },
    {
      "cell_type": "markdown",
      "metadata": {
        "id": "ju9hjklJWvcI"
      },
      "source": [
        "# Defense Methods"
      ]
    },
    {
      "cell_type": "code",
      "execution_count": 8,
      "metadata": {
        "id": "NyVdPWAxXqPH",
        "colab": {
          "base_uri": "https://localhost:8080/"
        },
        "outputId": "942a5d6f-4723-42b9-a59d-15675f4ff814"
      },
      "outputs": [
        {
          "output_type": "stream",
          "name": "stderr",
          "text": [
            "/usr/local/lib/python3.10/dist-packages/torchvision/models/_utils.py:208: UserWarning: The parameter 'pretrained' is deprecated since 0.13 and may be removed in the future, please use 'weights' instead.\n",
            "  warnings.warn(\n",
            "/usr/local/lib/python3.10/dist-packages/torchvision/models/_utils.py:223: UserWarning: Arguments other than a weight enum or `None` for 'weights' are deprecated since 0.13 and may be removed in the future. The current behavior is equivalent to passing `weights=ResNet18_Weights.IMAGENET1K_V1`. You can also use `weights=ResNet18_Weights.DEFAULT` to get the most up-to-date weights.\n",
            "  warnings.warn(msg)\n",
            "Downloading: \"https://download.pytorch.org/models/resnet18-f37072fd.pth\" to /root/.cache/torch/hub/checkpoints/resnet18-f37072fd.pth\n",
            "100%|██████████| 44.7M/44.7M [00:00<00:00, 139MB/s]\n"
          ]
        },
        {
          "output_type": "stream",
          "name": "stdout",
          "text": [
            "model moved to cuda\n"
          ]
        }
      ],
      "source": [
        "model = models.resnet18(pretrained=True)\n",
        "\n",
        "for param in model.parameters():\n",
        "    param.requires_grad = False  # Freeze convolutional layers\n",
        "num_ftrs = model.fc.in_features\n",
        "\n",
        "# Add new final layers (replace with your architecture)\n",
        "\n",
        "model.fc = nn.Sequential(\n",
        "    nn.Linear(num_ftrs, 256),\n",
        "    nn.BatchNorm1d(256),\n",
        "    nn.ReLU(),\n",
        "    nn.Dropout(0.2),\n",
        "    nn.Linear(256, output_size)\n",
        ")\n",
        "\n",
        "model.to(device)\n",
        "\n",
        "if next(model.parameters()).is_cuda:\n",
        "    print(\"model moved to cuda\")"
      ]
    },
    {
      "cell_type": "code",
      "execution_count": 9,
      "metadata": {
        "id": "uLBKn0lOIPSe"
      },
      "outputs": [],
      "source": [
        "criterion = nn.CrossEntropyLoss()\n",
        "optimizer = optim.Adam(model.parameters(), lr=0.001)\n",
        "scheduler = torch.optim.lr_scheduler.CosineAnnealingLR(optimizer, 10) #number of epochs"
      ]
    },
    {
      "cell_type": "code",
      "execution_count": 10,
      "metadata": {
        "colab": {
          "base_uri": "https://localhost:8080/"
        },
        "id": "RYhBE5TBWuoW",
        "outputId": "dad8b0a4-02f7-4868-8660-57f7e2b15e22"
      },
      "outputs": [
        {
          "output_type": "stream",
          "name": "stdout",
          "text": [
            "Epoch [1/10], Average Loss: 7.122\n"
          ]
        },
        {
          "output_type": "stream",
          "name": "stderr",
          "text": [
            "/usr/local/lib/python3.10/dist-packages/torch/optim/lr_scheduler.py:156: UserWarning: The epoch parameter in `scheduler.step()` was not necessary and is being deprecated where possible. Please use `scheduler.step()` to step the scheduler. During the deprecation, if epoch is different from None, the closed form is used instead of the new chainable form, where available. Please open an issue if you are unable to replicate your use case: https://github.com/pytorch/pytorch/issues/new/choose.\n",
            "  warnings.warn(EPOCH_DEPRECATION_WARNING, UserWarning)\n"
          ]
        },
        {
          "output_type": "stream",
          "name": "stdout",
          "text": [
            "Epoch [2/10], Average Loss: 6.858\n",
            "Epoch [3/10], Average Loss: 6.752\n",
            "Epoch [4/10], Average Loss: 6.692\n",
            "Epoch [5/10], Average Loss: 6.660\n",
            "Epoch [6/10], Average Loss: 6.629\n",
            "Epoch [7/10], Average Loss: 6.608\n",
            "Epoch [8/10], Average Loss: 6.597\n",
            "Epoch [9/10], Average Loss: 6.585\n",
            "Epoch [10/10], Average Loss: 6.590\n",
            "Finished Training\n"
          ]
        }
      ],
      "source": [
        "import sys\n",
        "import torch\n",
        "\n",
        "epochs = 10\n",
        "lambda_reg = 0.01\n",
        "epsilon = 10  # Perturbation magnitude for adversarial training\n",
        "clip_value = 1.0  # Gradient clipping value\n",
        "\n",
        "for epoch in range(epochs):  # loop over the dataset multiple times\n",
        "    running_loss = 0.0\n",
        "    for i, data in enumerate(train_loader, 0):\n",
        "        inputs, labels = data[0].to(device), data[1].to(device)\n",
        "\n",
        "        # zero the parameter gradients\n",
        "        optimizer.zero_grad()\n",
        "\n",
        "        # Generate adversarial examples by adding small perturbations\n",
        "        inputs.requires_grad = True\n",
        "        outputs = model(inputs)\n",
        "        loss = criterion(outputs, labels)\n",
        "        # loss.backward()\n",
        "\n",
        "        # Calculate L2 Regularization on all parameters\n",
        "        l2_reg = torch.tensor(0.).to(device)\n",
        "        for param in model.parameters():\n",
        "            l2_reg += torch.norm(param)\n",
        "        loss += lambda_reg * l2_reg\n",
        "\n",
        "        #applying gradient clipping\n",
        "        nn.utils.clip_grad_norm_(model.parameters(), clip_value)\n",
        "\n",
        "        # Backward pass and optimization\n",
        "        optimizer.zero_grad()  # Clear gradients for the second pass\n",
        "        loss.backward(retain_graph=True)\n",
        "        optimizer.step()\n",
        "\n",
        "        # Print statistics\n",
        "        running_loss += loss.item()\n",
        "        if i == len(train_loader) - 1:  # If it's the last mini-batch\n",
        "            # Print the average loss over the epoch\n",
        "            print(f'Epoch [{epoch + 1}/{epochs}], Average Loss: {running_loss / (i + 1):.3f}')\n",
        "            running_loss = 0.0\n",
        "    scheduler.step(epoch-1)\n",
        "\n",
        "print('Finished Training')\n"
      ]
    },
    {
      "cell_type": "code",
      "source": [
        "torch.save(model.state_dict(), 'resnet_l2reg.pth')"
      ],
      "metadata": {
        "id": "S6CnMY_o1NEB"
      },
      "execution_count": null,
      "outputs": []
    },
    {
      "cell_type": "code",
      "execution_count": 16,
      "metadata": {
        "id": "k40BbXVIpxSi",
        "colab": {
          "base_uri": "https://localhost:8080/"
        },
        "outputId": "d1882fcd-98d7-48c3-9541-467db136222e"
      },
      "outputs": [
        {
          "output_type": "stream",
          "name": "stdout",
          "text": [
            "Original labels:  [3 8 8 ... 5 1 7]\n",
            "Loss on original images:  1.5723885297775269\n",
            "Loss on FIA images: 2.650621175765991\n",
            "Original Accuracy: 44.34\n",
            "FIA Accuracy: 9.68\n",
            "Predicted Label for Adversarial Image: [2 2 2 ... 2 2 2]\n",
            "loss on FIA tensor(2.6506, device='cuda:0', grad_fn=<NllLossBackward0>)\n"
          ]
        }
      ],
      "source": [
        "adversarial_examples(model, test_loader)"
      ]
    }
  ],
  "metadata": {
    "accelerator": "GPU",
    "colab": {
      "gpuType": "T4",
      "provenance": []
    },
    "kernelspec": {
      "display_name": "Python 3",
      "name": "python3"
    },
    "language_info": {
      "name": "python"
    }
  },
  "nbformat": 4,
  "nbformat_minor": 0
}